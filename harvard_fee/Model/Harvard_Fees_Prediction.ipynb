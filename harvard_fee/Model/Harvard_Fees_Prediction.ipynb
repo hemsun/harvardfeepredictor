{
 "cells": [
  {
   "cell_type": "code",
   "execution_count": 1,
   "id": "650350bb",
   "metadata": {},
   "outputs": [],
   "source": [
    "import pandas as pd\n",
    "import seaborn as sns\n",
    "import numpy as np"
   ]
  },
  {
   "cell_type": "code",
   "execution_count": 2,
   "id": "5064edb5",
   "metadata": {},
   "outputs": [
    {
     "name": "stdout",
     "output_type": "stream",
     "text": [
      "Harvard College Tuition and Fees\n",
      "FY2015 - FY2024\n",
      "Academic\n",
      "Year TuitionHealth\n",
      "Services Fee Board RoomStudent\n",
      "Services Fee Total\n",
      "2024 $54,269 $1,408 $7,950 $12,424 $3,399 $79,450\n",
      "2023 $52,659 $1,304 $7,446 $12,056 $3,298 $76,763\n",
      "2022 $51,143 $1,242 $7,236 $11,705 $3,202 $74,528\n",
      "2021 $49,653 $1,206 $7,025 $11,364 $3,109 $72,357\n",
      "2020 $47,730 $1,206 $6,755 $10,927 $2,989 $69,607\n",
      "2019 $46,340 $1,178 $6,551 $10,609 $2,902 $67,580\n",
      "2018 $44,990 $1,142 $6,360 $10,300 $2,817 $65,609\n",
      "2017 $43,280 $1,088 $6,057 $9,894 $2,706 $63,025\n",
      "2016 $41,632 $1,042 $5,858 $9,523 $2,604 $60,659\n",
      "2015 $40,418 $992 $5,660 $9,009 $2,528 $58,607\n",
      "Source: School websites.\n"
     ]
    }
   ],
   "source": [
    "from PyPDF2 import PdfReader\n",
    "\n",
    "def extract_text_from_pdf(pdf_path):\n",
    "    with open(pdf_path, 'rb') as file:\n",
    "        pdf_reader = PdfReader(file)\n",
    "        text = ''\n",
    "        for page in pdf_reader.pages:\n",
    "            text += page.extract_text()\n",
    "    return text\n",
    "\n",
    "pdf_text = extract_text_from_pdf(r\"C:\\Users\\hemal\\py_ml_workout\\fee.pdf\")\n",
    "print(pdf_text)\n"
   ]
  },
  {
   "cell_type": "code",
   "execution_count": 3,
   "id": "64593ca9",
   "metadata": {},
   "outputs": [
    {
     "name": "stdout",
     "output_type": "stream",
     "text": [
      "  AcademicYear  Tuition HealthServicesFee   Board     Room StudentServicesFee  \\\n",
      "0         2024  $54,269            $1,408  $7,950  $12,424             $3,399   \n",
      "1         2023  $52,659            $1,304  $7,446  $12,056             $3,298   \n",
      "2         2022  $51,143            $1,242  $7,236  $11,705             $3,202   \n",
      "3         2021  $49,653            $1,206  $7,025  $11,364             $3,109   \n",
      "4         2020  $47,730            $1,206  $6,755  $10,927             $2,989   \n",
      "5         2019  $46,340            $1,178  $6,551  $10,609             $2,902   \n",
      "6         2018  $44,990            $1,142  $6,360  $10,300             $2,817   \n",
      "7         2017  $43,280            $1,088  $6,057   $9,894             $2,706   \n",
      "8         2016  $41,632            $1,042  $5,858   $9,523             $2,604   \n",
      "9         2015  $40,418              $992  $5,660   $9,009             $2,528   \n",
      "\n",
      "     Total  \n",
      "0  $79,450  \n",
      "1  $76,763  \n",
      "2  $74,528  \n",
      "3  $72,357  \n",
      "4  $69,607  \n",
      "5  $67,580  \n",
      "6  $65,609  \n",
      "7  $63,025  \n",
      "8  $60,659  \n",
      "9  $58,607  \n"
     ]
    }
   ],
   "source": [
    "import pandas as pd\n",
    "\n",
    "def parse_text_to_dataframe(text):\n",
    "    # Split text into rows\n",
    "    rows = text.strip().split('\\n')\n",
    "    \n",
    "    # Split rows into columns based on space or tab delimiter\n",
    "    data = [row.split() for row in rows]\n",
    "    \n",
    "    # Get the header from the first row\n",
    "    headers = data[0]\n",
    "    \n",
    "    # Create DataFrame with data skipping the first row (which is the header)\n",
    "    df1 = pd.DataFrame(data[1:], columns=headers)\n",
    "    \n",
    "    return df1\n",
    "\n",
    "pdf_text = \"\"\"AcademicYear Tuition HealthServicesFee Board Room StudentServicesFee Total\n",
    "2024 $54,269 $1,408 $7,950 $12,424 $3,399 $79,450\n",
    "2023 $52,659 $1,304 $7,446 $12,056 $3,298 $76,763\n",
    "2022 $51,143 $1,242 $7,236 $11,705 $3,202 $74,528\n",
    "2021 $49,653 $1,206 $7,025 $11,364 $3,109 $72,357\n",
    "2020 $47,730 $1,206 $6,755 $10,927 $2,989 $69,607\n",
    "2019 $46,340 $1,178 $6,551 $10,609 $2,902 $67,580\n",
    "2018 $44,990 $1,142 $6,360 $10,300 $2,817 $65,609\n",
    "2017 $43,280 $1,088 $6,057 $9,894 $2,706 $63,025\n",
    "2016 $41,632 $1,042 $5,858 $9,523 $2,604 $60,659\n",
    "2015 $40,418 $992 $5,660 $9,009 $2,528 $58,607\"\"\"\n",
    "\n",
    "df1 = parse_text_to_dataframe(pdf_text)\n",
    "print(df1)\n"
   ]
  },
  {
   "cell_type": "code",
   "execution_count": 4,
   "id": "bc49167f",
   "metadata": {
    "scrolled": true
   },
   "outputs": [
    {
     "data": {
      "text/html": [
       "<div>\n",
       "<style scoped>\n",
       "    .dataframe tbody tr th:only-of-type {\n",
       "        vertical-align: middle;\n",
       "    }\n",
       "\n",
       "    .dataframe tbody tr th {\n",
       "        vertical-align: top;\n",
       "    }\n",
       "\n",
       "    .dataframe thead th {\n",
       "        text-align: right;\n",
       "    }\n",
       "</style>\n",
       "<table border=\"1\" class=\"dataframe\">\n",
       "  <thead>\n",
       "    <tr style=\"text-align: right;\">\n",
       "      <th></th>\n",
       "      <th>AcademicYear</th>\n",
       "      <th>Tuition</th>\n",
       "      <th>HealthServicesFee</th>\n",
       "      <th>Board</th>\n",
       "      <th>Room</th>\n",
       "      <th>StudentServicesFee</th>\n",
       "      <th>Total</th>\n",
       "    </tr>\n",
       "  </thead>\n",
       "  <tbody>\n",
       "    <tr>\n",
       "      <th>0</th>\n",
       "      <td>2024</td>\n",
       "      <td>$54,269</td>\n",
       "      <td>$1,408</td>\n",
       "      <td>$7,950</td>\n",
       "      <td>$12,424</td>\n",
       "      <td>$3,399</td>\n",
       "      <td>$79,450</td>\n",
       "    </tr>\n",
       "    <tr>\n",
       "      <th>1</th>\n",
       "      <td>2023</td>\n",
       "      <td>$52,659</td>\n",
       "      <td>$1,304</td>\n",
       "      <td>$7,446</td>\n",
       "      <td>$12,056</td>\n",
       "      <td>$3,298</td>\n",
       "      <td>$76,763</td>\n",
       "    </tr>\n",
       "    <tr>\n",
       "      <th>2</th>\n",
       "      <td>2022</td>\n",
       "      <td>$51,143</td>\n",
       "      <td>$1,242</td>\n",
       "      <td>$7,236</td>\n",
       "      <td>$11,705</td>\n",
       "      <td>$3,202</td>\n",
       "      <td>$74,528</td>\n",
       "    </tr>\n",
       "    <tr>\n",
       "      <th>3</th>\n",
       "      <td>2021</td>\n",
       "      <td>$49,653</td>\n",
       "      <td>$1,206</td>\n",
       "      <td>$7,025</td>\n",
       "      <td>$11,364</td>\n",
       "      <td>$3,109</td>\n",
       "      <td>$72,357</td>\n",
       "    </tr>\n",
       "    <tr>\n",
       "      <th>4</th>\n",
       "      <td>2020</td>\n",
       "      <td>$47,730</td>\n",
       "      <td>$1,206</td>\n",
       "      <td>$6,755</td>\n",
       "      <td>$10,927</td>\n",
       "      <td>$2,989</td>\n",
       "      <td>$69,607</td>\n",
       "    </tr>\n",
       "  </tbody>\n",
       "</table>\n",
       "</div>"
      ],
      "text/plain": [
       "  AcademicYear  Tuition HealthServicesFee   Board     Room StudentServicesFee  \\\n",
       "0         2024  $54,269            $1,408  $7,950  $12,424             $3,399   \n",
       "1         2023  $52,659            $1,304  $7,446  $12,056             $3,298   \n",
       "2         2022  $51,143            $1,242  $7,236  $11,705             $3,202   \n",
       "3         2021  $49,653            $1,206  $7,025  $11,364             $3,109   \n",
       "4         2020  $47,730            $1,206  $6,755  $10,927             $2,989   \n",
       "\n",
       "     Total  \n",
       "0  $79,450  \n",
       "1  $76,763  \n",
       "2  $74,528  \n",
       "3  $72,357  \n",
       "4  $69,607  "
      ]
     },
     "execution_count": 4,
     "metadata": {},
     "output_type": "execute_result"
    }
   ],
   "source": [
    "df1.head()"
   ]
  },
  {
   "cell_type": "code",
   "execution_count": 5,
   "id": "d3cd860b",
   "metadata": {
    "scrolled": true
   },
   "outputs": [
    {
     "data": {
      "text/plain": [
       "AcademicYear          object\n",
       "Tuition               object\n",
       "HealthServicesFee     object\n",
       "Board                 object\n",
       "Room                  object\n",
       "StudentServicesFee    object\n",
       "Total                 object\n",
       "dtype: object"
      ]
     },
     "execution_count": 5,
     "metadata": {},
     "output_type": "execute_result"
    }
   ],
   "source": [
    "df1.dtypes"
   ]
  },
  {
   "cell_type": "code",
   "execution_count": 6,
   "id": "35ea606c",
   "metadata": {},
   "outputs": [
    {
     "name": "stdout",
     "output_type": "stream",
     "text": [
      "  AcademicYear  Tuition  HealthServicesFee  Board   Room  StudentServicesFee  \\\n",
      "0         2024    54269               1408   7950  12424                3399   \n",
      "1         2023    52659               1304   7446  12056                3298   \n",
      "2         2022    51143               1242   7236  11705                3202   \n",
      "3         2021    49653               1206   7025  11364                3109   \n",
      "4         2020    47730               1206   6755  10927                2989   \n",
      "5         2019    46340               1178   6551  10609                2902   \n",
      "6         2018    44990               1142   6360  10300                2817   \n",
      "7         2017    43280               1088   6057   9894                2706   \n",
      "8         2016    41632               1042   5858   9523                2604   \n",
      "9         2015    40418                992   5660   9009                2528   \n",
      "\n",
      "   Total  \n",
      "0  79450  \n",
      "1  76763  \n",
      "2  74528  \n",
      "3  72357  \n",
      "4  69607  \n",
      "5  67580  \n",
      "6  65609  \n",
      "7  63025  \n",
      "8  60659  \n",
      "9  58607  \n"
     ]
    }
   ],
   "source": [
    "# Remove $ and comma from columns containing monetary values\n",
    "df1['Tuition'] = df1['Tuition'].str.replace('$', '').str.replace(',', '')\n",
    "df1['HealthServicesFee'] = df1['HealthServicesFee'].str.replace('$', '').str.replace(',', '')\n",
    "df1['Board'] = df1['Board'].str.replace('$', '').str.replace(',', '')\n",
    "df1['Room'] = df1['Room'].str.replace('$', '').str.replace(',', '')\n",
    "df1['StudentServicesFee'] = df1['StudentServicesFee'].str.replace('$', '').str.replace(',', '')\n",
    "df1['Total'] = df1['Total'].str.replace('$', '').str.replace(',', '')\n",
    "\n",
    "# Convert columns to numeric\n",
    "df1['Tuition'] = pd.to_numeric(df1['Tuition'])\n",
    "df1['HealthServicesFee'] = pd.to_numeric(df1['HealthServicesFee'])\n",
    "df1['Board'] = pd.to_numeric(df1['Board'])\n",
    "df1['Room'] = pd.to_numeric(df1['Room'])\n",
    "df1['StudentServicesFee'] = pd.to_numeric(df1['StudentServicesFee'])\n",
    "df1['Total'] = pd.to_numeric(df1['Total'])\n",
    "print(df1)\n"
   ]
  },
  {
   "cell_type": "code",
   "execution_count": 7,
   "id": "328355a8",
   "metadata": {},
   "outputs": [
    {
     "data": {
      "text/html": [
       "<div>\n",
       "<style scoped>\n",
       "    .dataframe tbody tr th:only-of-type {\n",
       "        vertical-align: middle;\n",
       "    }\n",
       "\n",
       "    .dataframe tbody tr th {\n",
       "        vertical-align: top;\n",
       "    }\n",
       "\n",
       "    .dataframe thead th {\n",
       "        text-align: right;\n",
       "    }\n",
       "</style>\n",
       "<table border=\"1\" class=\"dataframe\">\n",
       "  <thead>\n",
       "    <tr style=\"text-align: right;\">\n",
       "      <th></th>\n",
       "      <th>AcademicYear</th>\n",
       "      <th>Tuition</th>\n",
       "      <th>HealthServicesFee</th>\n",
       "      <th>Board</th>\n",
       "      <th>Room</th>\n",
       "      <th>StudentServicesFee</th>\n",
       "      <th>Total</th>\n",
       "    </tr>\n",
       "  </thead>\n",
       "  <tbody>\n",
       "    <tr>\n",
       "      <th>0</th>\n",
       "      <td>2024</td>\n",
       "      <td>54269</td>\n",
       "      <td>1408</td>\n",
       "      <td>7950</td>\n",
       "      <td>12424</td>\n",
       "      <td>3399</td>\n",
       "      <td>79450</td>\n",
       "    </tr>\n",
       "    <tr>\n",
       "      <th>1</th>\n",
       "      <td>2023</td>\n",
       "      <td>52659</td>\n",
       "      <td>1304</td>\n",
       "      <td>7446</td>\n",
       "      <td>12056</td>\n",
       "      <td>3298</td>\n",
       "      <td>76763</td>\n",
       "    </tr>\n",
       "  </tbody>\n",
       "</table>\n",
       "</div>"
      ],
      "text/plain": [
       "  AcademicYear  Tuition  HealthServicesFee  Board   Room  StudentServicesFee  \\\n",
       "0         2024    54269               1408   7950  12424                3399   \n",
       "1         2023    52659               1304   7446  12056                3298   \n",
       "\n",
       "   Total  \n",
       "0  79450  \n",
       "1  76763  "
      ]
     },
     "execution_count": 7,
     "metadata": {},
     "output_type": "execute_result"
    }
   ],
   "source": [
    "df1.head(2)"
   ]
  },
  {
   "cell_type": "code",
   "execution_count": 8,
   "id": "e6f262bd",
   "metadata": {},
   "outputs": [
    {
     "data": {
      "text/plain": [
       "AcademicYear          object\n",
       "Tuition                int64\n",
       "HealthServicesFee      int64\n",
       "Board                  int64\n",
       "Room                   int64\n",
       "StudentServicesFee     int64\n",
       "Total                  int64\n",
       "dtype: object"
      ]
     },
     "execution_count": 8,
     "metadata": {},
     "output_type": "execute_result"
    }
   ],
   "source": [
    "df1.dtypes"
   ]
  },
  {
   "cell_type": "code",
   "execution_count": 9,
   "id": "8194d964",
   "metadata": {},
   "outputs": [
    {
     "name": "stdout",
     "output_type": "stream",
     "text": [
      "AcademicYear          int64\n",
      "Tuition               int64\n",
      "HealthServicesFee     int64\n",
      "Board                 int64\n",
      "Room                  int64\n",
      "StudentServicesFee    int64\n",
      "Total                 int64\n",
      "dtype: object\n"
     ]
    }
   ],
   "source": [
    "# Convert AcademicYear column to integers\n",
    "df1['AcademicYear'] = pd.to_numeric(df1['AcademicYear'])\n",
    "\n",
    "# Check data types of columns\n",
    "print(df1.dtypes)\n"
   ]
  },
  {
   "cell_type": "code",
   "execution_count": 10,
   "id": "0f32e22e",
   "metadata": {},
   "outputs": [
    {
     "name": "stdout",
     "output_type": "stream",
     "text": [
      "Intercept: -4585980.25862069\n",
      "Coefficient  [2304.93965517]\n"
     ]
    }
   ],
   "source": [
    "from sklearn.linear_model import LinearRegression\n",
    "from sklearn.model_selection import train_test_split\n",
    "\n",
    "model = LinearRegression()\n",
    "\n",
    "# Use AcademicYear as predictor variable\n",
    "X = df1[['AcademicYear']]\n",
    "y = df1['Total']\n",
    "\n",
    "\n",
    "X_train, X_test, y_train, y_test = train_test_split(X, y, test_size=0.20, random_state=42)\n",
    "model.fit(X_train, y_train)\n",
    "\n",
    "# Print coefficients\n",
    "print(\"Intercept:\", model.intercept_)\n",
    "print(\"Coefficient \", model.coef_)\n"
   ]
  },
  {
   "cell_type": "markdown",
   "id": "66da6f78",
   "metadata": {},
   "source": [
    "# Assumptions for LR"
   ]
  },
  {
   "cell_type": "markdown",
   "id": "6c10b75d",
   "metadata": {},
   "source": [
    "# Linearity of dependent and independent Variables"
   ]
  },
  {
   "cell_type": "code",
   "execution_count": 11,
   "id": "ed6111b2",
   "metadata": {
    "scrolled": true
   },
   "outputs": [
    {
     "data": {
      "text/plain": [
       "<Axes: xlabel='AcademicYear', ylabel='Total'>"
      ]
     },
     "execution_count": 11,
     "metadata": {},
     "output_type": "execute_result"
    },
    {
     "data": {
      "image/png": "[encoded data removed]",
      "text/plain": [
       "<Figure size 640x480 with 1 Axes>"
      ]
     },
     "metadata": {},
     "output_type": "display_data"
    }
   ],
   "source": [
    "#Linearity \n",
    "\n",
    "import seaborn as sns\n",
    "\n",
    "sns.regplot(x=df1['AcademicYear'], y=df1['Total'])\n",
    "\n"
   ]
  },
  {
   "cell_type": "markdown",
   "id": "1397c4a5",
   "metadata": {},
   "source": [
    "#  Homoscedasticity"
   ]
  },
  {
   "cell_type": "code",
   "execution_count": 12,
   "id": "f11fc5db",
   "metadata": {
    "scrolled": true
   },
   "outputs": [
    {
     "data": {
      "image/png": "[encoded data removed]",
      "text/plain": [
       "<Figure size 640x480 with 1 Axes>"
      ]
     },
     "metadata": {},
     "output_type": "display_data"
    }
   ],
   "source": [
    "import matplotlib.pyplot as plt\n",
    "\n",
    "# Calculate predicted y values\n",
    "y_pred_train = model.predict(X_train)\n",
    "y_pred_test = model.predict(X_test)\n",
    "\n",
    "# Calculate residuals\n",
    "residuals_train = y_train - y_pred_train\n",
    "residuals_test = y_test - y_pred_test\n",
    "\n",
    "# Plot residuals vs predicted values for the training set\n",
    "plt.scatter(y_pred_train, residuals_train, c='blue', label='Training data')\n",
    "# Plot residuals vs predicted values for the test set\n",
    "plt.scatter(y_pred_test, residuals_test, c='red', label='Test data')\n",
    "# Add a horizontal line at y=0\n",
    "plt.axhline(y=0, color='gray', linestyle='--')\n",
    "plt.xlabel('Predicted values')\n",
    "plt.ylabel('Residuals')\n",
    "plt.title('Residuals vs Predicted Values')\n",
    "plt.legend()\n",
    "plt.show()\n"
   ]
  },
  {
   "cell_type": "code",
   "execution_count": 13,
   "id": "1e8d3cbc",
   "metadata": {},
   "outputs": [
    {
     "name": "stdout",
     "output_type": "stream",
     "text": [
      "Assumption satisfied: No significant heteroscedasticity detected (Breusch-Pagan p-value > 0.05).\n"
     ]
    }
   ],
   "source": [
    "import numpy as np\n",
    "import statsmodels.api as sm\n",
    "from statsmodels.stats.diagnostic import het_breuschpagan\n",
    "\n",
    "# Add a constant term to X_train\n",
    "X_train_with_const = sm.add_constant(X_train)\n",
    "\n",
    "# Perform the Breusch-Pagan test\n",
    "bp_test = het_breuschpagan(residuals_train, X_train_with_const)\n",
    "\n",
    "if bp_test[1] < 0.05:\n",
    "    print(\"Assumption violated: Heteroscedasticity detected (Breusch-Pagan p-value < 0.05).\")\n",
    "else:\n",
    "    print(\"Assumption satisfied: No significant heteroscedasticity detected (Breusch-Pagan p-value > 0.05).\")\n"
   ]
  },
  {
   "cell_type": "markdown",
   "id": "cec54193",
   "metadata": {},
   "source": [
    "# Assumption : Normality of the residuals"
   ]
  },
  {
   "cell_type": "code",
   "execution_count": 14,
   "id": "c42006b1",
   "metadata": {
    "scrolled": true
   },
   "outputs": [
    {
     "data": {
      "image/png": "[encoded data removed]",
      "text/plain": [
       "<Figure size 640x480 with 1 Axes>"
      ]
     },
     "metadata": {},
     "output_type": "display_data"
    }
   ],
   "source": [
    "import scipy.stats as stats\n",
    "\n",
    "# Generate Q-Q plot for residuals\n",
    "stats.probplot(residuals_train, dist=\"norm\", plot=plt)\n",
    "plt.xlabel('Theoretical Quantiles')\n",
    "plt.ylabel('Ordered Residuals')\n",
    "plt.title('Q-Q Plot of Residuals')\n",
    "plt.show()\n",
    "\n",
    "# In the below graph we can see that the residuals falls along the normal distribution line showing that they are \n",
    "# normally distributed"
   ]
  },
  {
   "cell_type": "code",
   "execution_count": 15,
   "id": "f23d5c5e",
   "metadata": {
    "scrolled": true
   },
   "outputs": [
    {
     "data": {
      "image/png": "[encoded data removed]",
      "text/plain": [
       "<Figure size 640x480 with 1 Axes>"
      ]
     },
     "metadata": {},
     "output_type": "display_data"
    }
   ],
   "source": [
    "import scipy.stats as stats\n",
    "\n",
    "# Generate Q-Q plot for residuals\n",
    "stats.probplot(residuals_test, dist=\"norm\", plot=plt)\n",
    "plt.xlabel('Theoretical Quantiles')\n",
    "plt.ylabel('Ordered Residuals')\n",
    "plt.title('Q-Q Plot of Residuals')\n",
    "plt.show()\n",
    "\n",
    "# In the below graph we can see that the residuals falls along the normal distribution line showing that they are \n",
    "# normally distributed"
   ]
  },
  {
   "cell_type": "markdown",
   "id": "ca9c2eb0",
   "metadata": {},
   "source": [
    "# Using Grid Search to find the best model"
   ]
  },
  {
   "cell_type": "code",
   "execution_count": 16,
   "id": "2540617d",
   "metadata": {},
   "outputs": [
    {
     "name": "stderr",
     "output_type": "stream",
     "text": [
      "C:\\Users\\hemal\\Anaconda3\\Lib\\site-packages\\sklearn\\model_selection\\_validation.py:425: FitFailedWarning: \n",
      "10 fits failed out of a total of 20.\n",
      "The score on these train-test partitions for these parameters will be set to nan.\n",
      "If these failures are not expected, you can try to debug them by setting error_score='raise'.\n",
      "\n",
      "Below are more details about the failures:\n",
      "--------------------------------------------------------------------------------\n",
      "10 fits failed with the following error:\n",
      "Traceback (most recent call last):\n",
      "  File \"C:\\Users\\hemal\\Anaconda3\\Lib\\site-packages\\sklearn\\model_selection\\_validation.py\", line 732, in _fit_and_score\n",
      "    estimator.fit(X_train, y_train, **fit_params)\n",
      "  File \"C:\\Users\\hemal\\Anaconda3\\Lib\\site-packages\\sklearn\\base.py\", line 1144, in wrapper\n",
      "    estimator._validate_params()\n",
      "  File \"C:\\Users\\hemal\\Anaconda3\\Lib\\site-packages\\sklearn\\base.py\", line 637, in _validate_params\n",
      "    validate_parameter_constraints(\n",
      "  File \"C:\\Users\\hemal\\Anaconda3\\Lib\\site-packages\\sklearn\\utils\\_param_validation.py\", line 95, in validate_parameter_constraints\n",
      "    raise InvalidParameterError(\n",
      "sklearn.utils._param_validation.InvalidParameterError: The 'criterion' parameter of DecisionTreeRegressor must be a str among {'absolute_error', 'friedman_mse', 'squared_error', 'poisson'}. Got 'mse' instead.\n",
      "\n",
      "  warnings.warn(some_fits_failed_message, FitFailedWarning)\n",
      "C:\\Users\\hemal\\Anaconda3\\Lib\\site-packages\\sklearn\\model_selection\\_search.py:976: UserWarning: One or more of the test scores are non-finite: [       nan        nan 0.40457895 0.2876811 ]\n",
      "  warnings.warn(\n"
     ]
    },
    {
     "data": {
      "text/html": [
       "<div>\n",
       "<style scoped>\n",
       "    .dataframe tbody tr th:only-of-type {\n",
       "        vertical-align: middle;\n",
       "    }\n",
       "\n",
       "    .dataframe tbody tr th {\n",
       "        vertical-align: top;\n",
       "    }\n",
       "\n",
       "    .dataframe thead th {\n",
       "        text-align: right;\n",
       "    }\n",
       "</style>\n",
       "<table border=\"1\" class=\"dataframe\">\n",
       "  <thead>\n",
       "    <tr style=\"text-align: right;\">\n",
       "      <th></th>\n",
       "      <th>model</th>\n",
       "      <th>best_score</th>\n",
       "      <th>best_params</th>\n",
       "    </tr>\n",
       "  </thead>\n",
       "  <tbody>\n",
       "    <tr>\n",
       "      <th>0</th>\n",
       "      <td>linear_regression</td>\n",
       "      <td>0.992142</td>\n",
       "      <td>{}</td>\n",
       "    </tr>\n",
       "    <tr>\n",
       "      <th>1</th>\n",
       "      <td>lasso</td>\n",
       "      <td>0.992130</td>\n",
       "      <td>{'alpha': 1, 'selection': 'random'}</td>\n",
       "    </tr>\n",
       "    <tr>\n",
       "      <th>2</th>\n",
       "      <td>decision_tree</td>\n",
       "      <td>0.404579</td>\n",
       "      <td>{'criterion': 'friedman_mse', 'splitter': 'best'}</td>\n",
       "    </tr>\n",
       "  </tbody>\n",
       "</table>\n",
       "</div>"
      ],
      "text/plain": [
       "               model  best_score  \\\n",
       "0  linear_regression    0.992142   \n",
       "1              lasso    0.992130   \n",
       "2      decision_tree    0.404579   \n",
       "\n",
       "                                         best_params  \n",
       "0                                                 {}  \n",
       "1                {'alpha': 1, 'selection': 'random'}  \n",
       "2  {'criterion': 'friedman_mse', 'splitter': 'best'}  "
      ]
     },
     "execution_count": 16,
     "metadata": {},
     "output_type": "execute_result"
    }
   ],
   "source": [
    "from sklearn.model_selection import GridSearchCV\n",
    "from sklearn.model_selection import ShuffleSplit\n",
    "from sklearn.linear_model import LinearRegression, Lasso\n",
    "from sklearn.tree import DecisionTreeRegressor\n",
    "import pandas as pd\n",
    "\n",
    "def find_best_model_using_gridsearchcv(X_train, y_train):\n",
    "    algos = {\n",
    "        'linear_regression': {\n",
    "            'model': LinearRegression(),\n",
    "            'params': {}\n",
    "        },\n",
    "        'lasso': {\n",
    "            'model': Lasso(),\n",
    "            'params': {\n",
    "                'alpha': [1, 2],\n",
    "                'selection': ['random', 'cyclic']\n",
    "            }\n",
    "        },\n",
    "        'decision_tree': {\n",
    "            'model': DecisionTreeRegressor(),\n",
    "            'params': {\n",
    "                'criterion': ['mse', 'friedman_mse'],\n",
    "                'splitter': ['best', 'random']\n",
    "            }\n",
    "        }\n",
    "    }\n",
    "    scores = []\n",
    "    cv = ShuffleSplit(n_splits=5, test_size=0.2, random_state=0)\n",
    "    for algo_name, config in algos.items():\n",
    "        gs = GridSearchCV(config['model'], config['params'], cv=cv, return_train_score=False)\n",
    "        gs.fit(X_train, y_train)\n",
    "        scores.append({\n",
    "            'model': algo_name,\n",
    "            'best_score': gs.best_score_,\n",
    "            'best_params': gs.best_params_\n",
    "        })\n",
    "\n",
    "    return pd.DataFrame(scores, columns=['model', 'best_score', 'best_params'])\n",
    "\n",
    "# Assuming X_train and y_train are already defined\n",
    "find_best_model_using_gridsearchcv(X_train, y_train)\n"
   ]
  },
  {
   "cell_type": "code",
   "execution_count": 17,
   "id": "53cbceec",
   "metadata": {},
   "outputs": [
    {
     "data": {
      "text/html": [
       "<style>#sk-container-id-1 {color: black;}#sk-container-id-1 pre{padding: 0;}#sk-container-id-1 div.sk-toggleable {background-color: white;}#sk-container-id-1 label.sk-toggleable__label {cursor: pointer;display: block;width: 100%;margin-bottom: 0;padding: 0.3em;box-sizing: border-box;text-align: center;}#sk-container-id-1 label.sk-toggleable__label-arrow:before {content: \"▸\";float: left;margin-right: 0.25em;color: #696969;}#sk-container-id-1 label.sk-toggleable__label-arrow:hover:before {color: black;}#sk-container-id-1 div.sk-estimator:hover label.sk-toggleable__label-arrow:before {color: black;}#sk-container-id-1 div.sk-toggleable__content {max-height: 0;max-width: 0;overflow: hidden;text-align: left;background-color: #f0f8ff;}#sk-container-id-1 div.sk-toggleable__content pre {margin: 0.2em;color: black;border-radius: 0.25em;background-color: #f0f8ff;}#sk-container-id-1 input.sk-toggleable__control:checked~div.sk-toggleable__content {max-height: 200px;max-width: 100%;overflow: auto;}#sk-container-id-1 input.sk-toggleable__control:checked~label.sk-toggleable__label-arrow:before {content: \"▾\";}#sk-container-id-1 div.sk-estimator input.sk-toggleable__control:checked~label.sk-toggleable__label {background-color: #d4ebff;}#sk-container-id-1 div.sk-label input.sk-toggleable__control:checked~label.sk-toggleable__label {background-color: #d4ebff;}#sk-container-id-1 input.sk-hidden--visually {border: 0;clip: rect(1px 1px 1px 1px);clip: rect(1px, 1px, 1px, 1px);height: 1px;margin: -1px;overflow: hidden;padding: 0;position: absolute;width: 1px;}#sk-container-id-1 div.sk-estimator {font-family: monospace;background-color: #f0f8ff;border: 1px dotted black;border-radius: 0.25em;box-sizing: border-box;margin-bottom: 0.5em;}#sk-container-id-1 div.sk-estimator:hover {background-color: #d4ebff;}#sk-container-id-1 div.sk-parallel-item::after {content: \"\";width: 100%;border-bottom: 1px solid gray;flex-grow: 1;}#sk-container-id-1 div.sk-label:hover label.sk-toggleable__label {background-color: #d4ebff;}#sk-container-id-1 div.sk-serial::before {content: \"\";position: absolute;border-left: 1px solid gray;box-sizing: border-box;top: 0;bottom: 0;left: 50%;z-index: 0;}#sk-container-id-1 div.sk-serial {display: flex;flex-direction: column;align-items: center;background-color: white;padding-right: 0.2em;padding-left: 0.2em;position: relative;}#sk-container-id-1 div.sk-item {position: relative;z-index: 1;}#sk-container-id-1 div.sk-parallel {display: flex;align-items: stretch;justify-content: center;background-color: white;position: relative;}#sk-container-id-1 div.sk-item::before, #sk-container-id-1 div.sk-parallel-item::before {content: \"\";position: absolute;border-left: 1px solid gray;box-sizing: border-box;top: 0;bottom: 0;left: 50%;z-index: -1;}#sk-container-id-1 div.sk-parallel-item {display: flex;flex-direction: column;z-index: 1;position: relative;background-color: white;}#sk-container-id-1 div.sk-parallel-item:first-child::after {align-self: flex-end;width: 50%;}#sk-container-id-1 div.sk-parallel-item:last-child::after {align-self: flex-start;width: 50%;}#sk-container-id-1 div.sk-parallel-item:only-child::after {width: 0;}#sk-container-id-1 div.sk-dashed-wrapped {border: 1px dashed gray;margin: 0 0.4em 0.5em 0.4em;box-sizing: border-box;padding-bottom: 0.4em;background-color: white;}#sk-container-id-1 div.sk-label label {font-family: monospace;font-weight: bold;display: inline-block;line-height: 1.2em;}#sk-container-id-1 div.sk-label-container {text-align: center;}#sk-container-id-1 div.sk-container {/* jupyter's `normalize.less` sets `[hidden] { display: none; }` but bootstrap.min.css set `[hidden] { display: none !important; }` so we also need the `!important` here to be able to override the default hidden behavior on the sphinx rendered scikit-learn.org. See: https://github.com/scikit-learn/scikit-learn/issues/21755 */display: inline-block !important;position: relative;}#sk-container-id-1 div.sk-text-repr-fallback {display: none;}</style><div id=\"sk-container-id-1\" class=\"sk-top-container\"><div class=\"sk-text-repr-fallback\"><pre>LinearRegression()</pre><b>In a Jupyter environment, please rerun this cell to show the HTML representation or trust the notebook. <br />On GitHub, the HTML representation is unable to render, please try loading this page with nbviewer.org.</b></div><div class=\"sk-container\" hidden><div class=\"sk-item\"><div class=\"sk-estimator sk-toggleable\"><input class=\"sk-toggleable__control sk-hidden--visually\" id=\"sk-estimator-id-1\" type=\"checkbox\" checked><label for=\"sk-estimator-id-1\" class=\"sk-toggleable__label sk-toggleable__label-arrow\">LinearRegression</label><div class=\"sk-toggleable__content\"><pre>LinearRegression()</pre></div></div></div></div></div>"
      ],
      "text/plain": [
       "LinearRegression()"
      ]
     },
     "execution_count": 17,
     "metadata": {},
     "output_type": "execute_result"
    }
   ],
   "source": [
    "model = LinearRegression()\n",
    "model.fit(X_train,y_train)"
   ]
  },
  {
   "cell_type": "code",
   "execution_count": 18,
   "id": "8bd03dbf",
   "metadata": {},
   "outputs": [],
   "source": [
    "# export as a pickle file \n",
    "\n",
    "import pickle\n",
    "   \n",
    "pickle.dump(model, open(\"model.pkl\", \"wb\"))"
   ]
  },
  {
   "cell_type": "code",
   "execution_count": null,
   "id": "a4cb4717",
   "metadata": {},
   "outputs": [],
   "source": []
  },
  {
   "cell_type": "code",
   "execution_count": 19,
   "id": "9f98022d",
   "metadata": {},
   "outputs": [],
   "source": [
    "#old code"
   ]
  },
  {
   "cell_type": "code",
   "execution_count": 17,
   "id": "ad6cbc86",
   "metadata": {},
   "outputs": [],
   "source": [
    "def predict_fees(year):\n",
    "    # Finding the index corresponding to the year in the feature matrix\n",
    "    year_index = np.where(X_train.columns == 'AcademicYear')[0][0]\n",
    "\n",
    "    # Checking if the 'AcademicYear' column exists in the feature matrix\n",
    "    if year_index >= 0:\n",
    "        \n",
    "        # Using the year value directly to predict the fees\n",
    "        return model.predict([[year]])[0]\n",
    "    else:\n",
    "        raise ValueError(\"Column 'AcademicYear' not found in the feature matrix.\")\n"
   ]
  },
  {
   "cell_type": "code",
   "execution_count": 18,
   "id": "e0bc037d",
   "metadata": {},
   "outputs": [
    {
     "name": "stderr",
     "output_type": "stream",
     "text": [
      "C:\\Users\\hemal\\Anaconda3\\Lib\\site-packages\\sklearn\\base.py:464: UserWarning: X does not have valid feature names, but LinearRegression was fitted with feature names\n",
      "  warnings.warn(\n"
     ]
    },
    {
     "data": {
      "text/plain": [
       "81522.54310344905"
      ]
     },
     "execution_count": 18,
     "metadata": {},
     "output_type": "execute_result"
    }
   ],
   "source": [
    "predict_fees(2025)"
   ]
  },
  {
   "cell_type": "markdown",
   "id": "d3be166a",
   "metadata": {},
   "source": [
    "# Export the tested model to a pickle file"
   ]
  },
  {
   "cell_type": "code",
   "execution_count": 19,
   "id": "abb63118",
   "metadata": {},
   "outputs": [],
   "source": [
    "import pickle\n",
    "with open('Harvard_Fees_Prediction.pickle','wb') as f:\n",
    "    pickle.dump(model,f)"
   ]
  },
  {
   "cell_type": "code",
   "execution_count": 21,
   "id": "3885a192",
   "metadata": {},
   "outputs": [],
   "source": [
    "import json\n",
    "columns={'data_columns':[col.lower() for col in X_train.columns] }\n",
    "\n",
    "with open(\"columns.json\",\"w\") as f:\n",
    "    f.write(json.dumps(columns))"
   ]
  },
  {
   "cell_type": "code",
   "execution_count": null,
   "id": "242fe51a",
   "metadata": {},
   "outputs": [],
   "source": []
  },
  {
   "cell_type": "code",
   "execution_count": null,
   "id": "ab25b482",
   "metadata": {},
   "outputs": [],
   "source": []
  },
  {
   "cell_type": "code",
   "execution_count": null,
   "id": "de43308f",
   "metadata": {},
   "outputs": [],
   "source": []
  },
  {
   "cell_type": "code",
   "execution_count": null,
   "id": "25030ee5",
   "metadata": {},
   "outputs": [],
   "source": []
  },
  {
   "cell_type": "code",
   "execution_count": null,
   "id": "f39e6e17",
   "metadata": {},
   "outputs": [],
   "source": []
  }
 ],
 "metadata": {
  "kernelspec": {
   "display_name": "Python 3 (ipykernel)",
   "language": "python",
   "name": "python3"
  },
  "language_info": {
   "codemirror_mode": {
    "name": "ipython",
    "version": 3
   },
   "file_extension": ".py",
   "mimetype": "text/x-python",
   "name": "python",
   "nbconvert_exporter": "python",
   "pygments_lexer": "ipython3",
   "version": "3.11.5"
  }
 },
 "nbformat": 4,
 "nbformat_minor": 5
}
